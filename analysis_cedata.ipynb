{
  "nbformat": 4,
  "nbformat_minor": 0,
  "metadata": {
    "colab": {
      "provenance": [],
      "mount_file_id": "1gErIi8LvSCU_KfcBgTxhcl5cktxoQxcG",
      "authorship_tag": "ABX9TyPFbxe4kWeag+e6ENMPTnBZ"
    },
    "kernelspec": {
      "name": "python3",
      "display_name": "Python 3"
    },
    "language_info": {
      "name": "python"
    }
  },
  "cells": [
    {
      "cell_type": "code",
      "execution_count": null,
      "metadata": {
        "id": "iIfwz8s_5iUm"
      },
      "outputs": [],
      "source": [
        "!cp drive/MyDrive/Colab\\ Notebooks/Plots.py ."
      ]
    },
    {
      "cell_type": "code",
      "source": [
        "import os\n",
        "import glob\n",
        "import re\n",
        "import pandas as pd\n",
        "import numpy as np\n",
        "from Plots import MultiRunCorrelationPlotter"
      ],
      "metadata": {
        "id": "8E74BeU46C4L"
      },
      "execution_count": null,
      "outputs": []
    },
    {
      "cell_type": "code",
      "source": [
        "base_path = \"/content/drive/MyDrive/Thesis\"\n",
        "ce_folders = glob.glob(os.path.join(base_path, \"CE*\"))\n",
        "\n",
        "df_dict = {}\n",
        "\n",
        "for folder in ce_folders:\n",
        "    csv_files = glob.glob(os.path.join(folder, \"RCS_*_5S2P_*_Run*_*.csv\"))\n",
        "\n",
        "    for file_path in csv_files:\n",
        "        match = re.search(r\"RCS_\\d+_\\d+_5S2P_(.*?)_(Run\\d)_\\d\\.csv\", os.path.basename(file_path))\n",
        "        if match:\n",
        "            tag = match.group(1)\n",
        "            run = match.group(2)\n",
        "            key = f\"df_{tag}_{run}\"\n",
        "\n",
        "            df = pd.read_csv(file_path)\n",
        "\n",
        "            df_dict[key] = df\n",
        "            print(f\"Loaded {key} from {file_path}\")\n",
        "        else:\n",
        "            print(f\"Skipped unmatched file: {file_path}\")"
      ],
      "metadata": {
        "colab": {
          "base_uri": "https://localhost:8080/"
        },
        "id": "W1pJ5mdCEiuu",
        "outputId": "0e6c44e2-5a7f-4193-aac8-55d32447b479"
      },
      "execution_count": null,
      "outputs": [
        {
          "output_type": "stream",
          "name": "stdout",
          "text": [
            "Loaded df_50CE_Run2 from /content/drive/MyDrive/Thesis/CE Part2/RCS_250414_1317_5S2P_50CE_Run2_1.csv\n",
            "Loaded df_10CE_Run2 from /content/drive/MyDrive/Thesis/CE Part2/RCS_250414_1442_5S2P_10CE_Run2_1.csv\n",
            "Loaded df_05CE_Run2 from /content/drive/MyDrive/Thesis/CE Part2/RCS_250421_1312_5S2P_05CE_Run2_1.csv\n",
            "Loaded df_05CE_Run3 from /content/drive/MyDrive/Thesis/CE Part3/RCS_250416_1643_5S2P_05CE_Run3_1.csv\n",
            "Loaded df_05CE_Run4 from /content/drive/MyDrive/Thesis/CE Part3/RCS_250416_1355_5S2P_05CE_Run4_1.csv\n",
            "Loaded df_05CE_Run5 from /content/drive/MyDrive/Thesis/CE Part3/RCS_250416_1229_5S2P_05CE_Run5_1.csv\n",
            "Loaded df_05CE_Run6 from /content/drive/MyDrive/Thesis/CE Part3/RCS_250415_1506_5S2P_05CE_Run6_1.csv\n",
            "Loaded df_50CE_Run1 from /content/drive/MyDrive/Thesis/CE Part1/RCS_250410_1612_5S2P_50CE_Run1_1.csv\n",
            "Loaded df_10CE_Run1 from /content/drive/MyDrive/Thesis/CE Part1/RCS_250414_1016_5S2P_10CE_Run1_1.csv\n",
            "Loaded df_05CE_Run1 from /content/drive/MyDrive/Thesis/CE Part1/RCS_250414_1115_5S2P_05CE_Run1_1.csv\n"
          ]
        }
      ]
    },
    {
      "cell_type": "code",
      "source": [
        "for key, df in df_dict.items():\n",
        "    dataset_name_full = key.replace(\"df_\", \"\").replace(\"_\", \" \").strip()\n",
        "    # dataset_name_folder = dataset_name_full.lower().split()[0]\n",
        "    analyzer = CorrelationAnalyzer(\n",
        "        df,\n",
        "        dataset_name=dataset_name_full,\n",
        "        dataset_folder='CE',\n",
        "        desired_window_in_seconds=60,\n",
        "        step_fraction=0.8\n",
        "    )\n",
        "    print(f\"****** Running analysis for {dataset_name_full} ******\")\n",
        "    analyzer.analyze_all()\n"
      ],
      "metadata": {
        "colab": {
          "base_uri": "https://localhost:8080/"
        },
        "id": "SnpTczWe71Yz",
        "outputId": "2a7ea519-683c-4c99-cbd7-5e73c51c4e15"
      },
      "execution_count": null,
      "outputs": [
        {
          "output_type": "stream",
          "name": "stdout",
          "text": [
            "****** Running analysis for 50CE Run2 ******\n",
            "****** Running analysis for 10CE Run2 ******\n",
            "****** Running analysis for 05CE Run2 ******\n",
            "****** Running analysis for 05CE Run3 ******\n",
            "****** Running analysis for 05CE Run4 ******\n",
            "****** Running analysis for 05CE Run5 ******\n",
            "****** Running analysis for 05CE Run6 ******\n",
            "****** Running analysis for 50CE Run1 ******\n",
            "****** Running analysis for 10CE Run1 ******\n",
            "****** Running analysis for 05CE Run1 ******\n"
          ]
        }
      ]
    },
    {
      "cell_type": "code",
      "source": [
        "import re\n",
        "from collections import defaultdict\n",
        "\n",
        "def group_dataframes_by_fault(df_dict):\n",
        "    fault_groups = defaultdict(dict)\n",
        "    for name, df in df_dict.items():\n",
        "        # Use re.IGNORECASE and correct pattern to match both 'Run' and 'run'\n",
        "        match = re.match(r\"df_([a-zA-Z0-9]+)_(run\\d+)\", name, flags=re.IGNORECASE)\n",
        "        if match:\n",
        "            fault_type = match.group(1).lower()  # Convert to lowercase for consistency\n",
        "            run_id = match.group(2).lower()\n",
        "            fault_groups[fault_type][run_id] = df\n",
        "        else:\n",
        "            print(f\"Skipped unmatched key: {name}\")\n",
        "    return dict(fault_groups)\n"
      ],
      "metadata": {
        "id": "xYAduivZzrdj"
      },
      "execution_count": null,
      "outputs": []
    },
    {
      "cell_type": "code",
      "source": [
        "# Step 1: Automatically group by fault type\n",
        "faultwise_df_dict = group_dataframes_by_fault(df_dict)\n",
        "print(faultwise_df_dict.keys())\n",
        "\n",
        "# Step 2: Run correlation analysis on each fault type\n",
        "analyzer = CorrelationAnalyzer(df_dict, output_path=\"/content/drive/MyDrive/Thesis/Plots\")\n",
        "\n",
        "for fault_type, fault_dataframes in faultwise_df_dict.items():\n",
        "    print(f\"****** Running analysis for {fault_type} ******\")\n",
        "    analyzer.df_dict = fault_dataframes  # Set only relevant fault's dataframes\n",
        "    analyzer.analyze_fault(fault_type)"
      ],
      "metadata": {
        "colab": {
          "base_uri": "https://localhost:8080/"
        },
        "id": "g-i2xD8ZYMDn",
        "outputId": "056e4879-0490-47a6-f664-c5c92080072f"
      },
      "execution_count": null,
      "outputs": [
        {
          "output_type": "stream",
          "name": "stdout",
          "text": [
            "<re.Match object; span=(0, 12), match='df_50CE_Run2'>\n",
            "<re.Match object; span=(0, 12), match='df_10CE_Run2'>\n",
            "<re.Match object; span=(0, 12), match='df_05CE_Run2'>\n",
            "<re.Match object; span=(0, 12), match='df_05CE_Run3'>\n",
            "<re.Match object; span=(0, 12), match='df_05CE_Run4'>\n",
            "<re.Match object; span=(0, 12), match='df_05CE_Run5'>\n",
            "<re.Match object; span=(0, 12), match='df_05CE_Run6'>\n",
            "<re.Match object; span=(0, 12), match='df_50CE_Run1'>\n",
            "<re.Match object; span=(0, 12), match='df_10CE_Run1'>\n",
            "<re.Match object; span=(0, 12), match='df_05CE_Run1'>\n",
            "Detected fault types: ['50ce', '10ce', '05ce']\n",
            "dict_keys(['50ce', '10ce', '05ce'])\n",
            "****** Running analysis for 50ce ******\n",
            "No runs found for fault type '50ce'\n",
            "****** Running analysis for 10ce ******\n",
            "No runs found for fault type '10ce'\n",
            "****** Running analysis for 05ce ******\n",
            "No runs found for fault type '05ce'\n"
          ]
        }
      ]
    },
    {
      "cell_type": "code",
      "source": [
        "plotter = MultiRunCorrelationPlotter(df_dict)\n",
        "plotter.analyze_all()"
      ],
      "metadata": {
        "colab": {
          "base_uri": "https://localhost:8080/"
        },
        "id": "85FIzXqAop_Q",
        "outputId": "75a2164d-6f78-44a8-ecf8-4c3454582df1"
      },
      "execution_count": null,
      "outputs": [
        {
          "output_type": "stream",
          "name": "stdout",
          "text": [
            "Grouping dataframes by fault type...\n",
            "****** Running analysis for 50CE ******\n",
            "****** Running analysis for 10CE ******\n",
            "****** Running analysis for 05CE ******\n"
          ]
        }
      ]
    }
  ]
}