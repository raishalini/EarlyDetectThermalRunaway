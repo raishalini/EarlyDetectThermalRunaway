{
  "nbformat": 4,
  "nbformat_minor": 0,
  "metadata": {
    "colab": {
      "provenance": [],
      "mount_file_id": "1POxalFjWh5-nPH_H4qZnmKXbYposUKu3",
      "authorship_tag": "ABX9TyNah4G9qzsw3co++OwPiN9I"
    },
    "kernelspec": {
      "name": "python3",
      "display_name": "Python 3"
    },
    "language_info": {
      "name": "python"
    }
  },
  "cells": [
    {
      "cell_type": "code",
      "source": [
        "!cp drive/MyDrive/Colab\\ Notebooks/Plots.py ."
      ],
      "metadata": {
        "id": "bP8C6IGH3ZXr"
      },
      "execution_count": null,
      "outputs": []
    },
    {
      "cell_type": "code",
      "source": [
        "import os\n",
        "import glob\n",
        "import re\n",
        "import pandas as pd\n",
        "import numpy as np\n",
        "from Plots import CorrelationAnalyzer, GroupedCorrelationAnalyzer, PlotManager"
      ],
      "metadata": {
        "id": "fjbOpYjQ32Do"
      },
      "execution_count": null,
      "outputs": []
    },
    {
      "cell_type": "code",
      "source": [
        "base_path = \"/content/drive/MyDrive/Thesis\"\n",
        "healthy_folders = glob.glob(os.path.join(base_path, \"HealthyData\"))\n",
        "\n",
        "df_dict = {}\n",
        "\n",
        "for folder in healthy_folders:\n",
        "    csv_files = glob.glob(os.path.join(folder, \"RCS_*_5S2P_Healthy_Run*_*.csv\"))\n",
        "\n",
        "    for file_path in csv_files:\n",
        "        match = re.search(r\"RCS_\\d+_\\d+_5S2P_Healthy_(Run\\d)_\\d\\.csv\", os.path.basename(file_path))\n",
        "        if match:\n",
        "            run = match.group(1)\n",
        "            key = f\"df_healthy_{run}\"\n",
        "\n",
        "            df = pd.read_csv(file_path)\n",
        "            df_dict[key] = df\n",
        "            print(f\"Loaded {key} from {file_path}\")\n",
        "        else:\n",
        "            print(f\"Skipped unmatched file: {file_path}\")"
      ],
      "metadata": {
        "id": "KnRqC4GjHBMq",
        "colab": {
          "base_uri": "https://localhost:8080/"
        },
        "outputId": "1c11b5f1-6f03-4aec-9788-a014ae276ee0"
      },
      "execution_count": null,
      "outputs": [
        {
          "output_type": "stream",
          "name": "stdout",
          "text": [
            "Loaded df_healthy_Run2 from /content/drive/MyDrive/Thesis/HealthyData/RCS_250410_1021_5S2P_Healthy_Run2_1.csv\n",
            "Loaded df_healthy_Run1 from /content/drive/MyDrive/Thesis/HealthyData/RCS_250405_2109_5S2P_Healthy_Run1_1.csv\n",
            "Loaded df_healthy_Run3 from /content/drive/MyDrive/Thesis/HealthyData/RCS_250414_1216_5S2P_Healthy_Run3_1.csv\n",
            "Loaded df_healthy_Run4 from /content/drive/MyDrive/Thesis/HealthyData/RCS_250415_1829_5S2P_Healthy_Run4_1.csv\n",
            "Loaded df_healthy_Run5 from /content/drive/MyDrive/Thesis/HealthyData/RCS_250416_1748_5S2P_Healthy_Run5_1.csv\n",
            "Loaded df_healthy_Run6 from /content/drive/MyDrive/Thesis/HealthyData/RCS_250417_1306_5S2P_Healthy_Run6_1.csv\n",
            "Loaded df_healthy_Run7 from /content/drive/MyDrive/Thesis/HealthyData/RCS_250421_1455_5S2P_Healthy_Run7_1.csv\n"
          ]
        }
      ]
    },
    {
      "cell_type": "code",
      "source": [
        "for key, df in df_dict.items():\n",
        "    dataset_name_full = key.replace(\"df_\", \"\").replace(\"_\", \" \").strip()\n",
        "    # dataset_name_folder = dataset_name_full.lower().split()[0]\n",
        "    analyzer = CorrelationAnalyzer(\n",
        "        df,\n",
        "        dataset_name=dataset_name_full,\n",
        "        dataset_folder='Healthy',\n",
        "        desired_window_in_seconds=60,\n",
        "        step_fraction=0.8\n",
        "    )\n",
        "    print(f\"****** Running analysis for {dataset_name_full} ******\")\n",
        "    analyzer.analyze_all()\n"
      ],
      "metadata": {
        "colab": {
          "base_uri": "https://localhost:8080/"
        },
        "id": "DdkiydG84EZy",
        "outputId": "03fd926b-9182-4c72-f659-56b2cc703fe0"
      },
      "execution_count": null,
      "outputs": [
        {
          "output_type": "stream",
          "name": "stdout",
          "text": [
            "****** Running analysis for healthy Run2 ******\n",
            "****** Running analysis for healthy Run1 ******\n",
            "****** Running analysis for healthy Run3 ******\n",
            "****** Running analysis for healthy Run4 ******\n",
            "****** Running analysis for healthy Run5 ******\n",
            "****** Running analysis for healthy Run6 ******\n",
            "****** Running analysis for healthy Run7 ******\n"
          ]
        }
      ]
    },
    {
      "cell_type": "code",
      "source": [
        "plot_manager = PlotManager()\n",
        "\n",
        "for key, df in df_dict.items():\n",
        "    dataset_name_full = key.replace(\"df_\", \"\").replace(\"_\", \" \").strip()\n",
        "    print(dataset_name_full)\n",
        "\n",
        "    # Extract dataset group for folder (e.g., \"healthy\", \"05CE\", \"10CE\", etc.)\n",
        "    match = re.match(r\"(.*?)(?:\\s|_)?run\\d+\", dataset_name_full, re.IGNORECASE)\n",
        "    dataset_group = match.group(1).upper() if match else \"UNKNOWN\"\n",
        "    print(dataset_group)\n",
        "\n",
        "    analyzer = GroupedCorrelationAnalyzer(\n",
        "        dataset_name=key,\n",
        "        dataset_group=df,  # This should be a dict of {run: df}\n",
        "        desired_window_in_seconds=60,\n",
        "        step_fraction=0.8\n",
        "    )\n",
        "\n",
        "    print(f\"****** Running analysis for {dataset_name_full} ******\")\n",
        "    analyzer.analyze_all(plot_manager)\n"
      ],
      "metadata": {
        "colab": {
          "base_uri": "https://localhost:8080/",
          "height": 228
        },
        "id": "1hThwdbP9Uwc",
        "outputId": "2829c7ad-0161-4e14-f0d7-d89db91b4fa6"
      },
      "execution_count": null,
      "outputs": [
        {
          "output_type": "stream",
          "name": "stdout",
          "text": [
            "healthy Run2\n",
            "HEALTHY\n",
            "****** Running analysis for healthy Run2 ******\n"
          ]
        },
        {
          "output_type": "error",
          "ename": "AttributeError",
          "evalue": "'GroupedCorrelationAnalyzer' object has no attribute 'analyze_all'",
          "traceback": [
            "\u001b[0;31m---------------------------------------------------------------------------\u001b[0m",
            "\u001b[0;31mAttributeError\u001b[0m                            Traceback (most recent call last)",
            "\u001b[0;32m<ipython-input-7-aaa2915ac100>\u001b[0m in \u001b[0;36m<cell line: 0>\u001b[0;34m()\u001b[0m\n\u001b[1;32m     18\u001b[0m \u001b[0;34m\u001b[0m\u001b[0m\n\u001b[1;32m     19\u001b[0m     \u001b[0mprint\u001b[0m\u001b[0;34m(\u001b[0m\u001b[0;34mf\"****** Running analysis for {dataset_name_full} ******\"\u001b[0m\u001b[0;34m)\u001b[0m\u001b[0;34m\u001b[0m\u001b[0;34m\u001b[0m\u001b[0m\n\u001b[0;32m---> 20\u001b[0;31m     \u001b[0manalyzer\u001b[0m\u001b[0;34m.\u001b[0m\u001b[0manalyze_all\u001b[0m\u001b[0;34m(\u001b[0m\u001b[0mplot_manager\u001b[0m\u001b[0;34m)\u001b[0m\u001b[0;34m\u001b[0m\u001b[0;34m\u001b[0m\u001b[0m\n\u001b[0m",
            "\u001b[0;31mAttributeError\u001b[0m: 'GroupedCorrelationAnalyzer' object has no attribute 'analyze_all'"
          ]
        }
      ]
    }
  ]
}