{
  "cells": [
    {
      "cell_type": "code",
      "execution_count": null,
      "metadata": {
        "id": "Ma25c7TEDuB-"
      },
      "outputs": [],
      "source": [
        "# !cp drive/MyDrive/Colab\\ Notebooks/Plots.py ."
      ]
    },
    {
      "cell_type": "code",
      "execution_count": 1,
      "metadata": {
        "id": "CPLSAZsnrBGv"
      },
      "outputs": [],
      "source": [
        "import os\n",
        "import glob\n",
        "import re\n",
        "import pandas as pd\n",
        "import numpy as np\n",
        "from Plots import MultiRunCorrelationPlotter"
      ]
    },
    {
      "cell_type": "code",
      "execution_count": 2,
      "metadata": {
        "colab": {
          "base_uri": "https://localhost:8080/"
        },
        "id": "PtP6tai_DhXQ",
        "outputId": "636c6994-5faa-4a96-d6e1-51a2968c384e"
      },
      "outputs": [
        {
          "output_type": "stream",
          "name": "stdout",
          "text": [
            "Loaded df_StepSC_Run1 from /content/drive/MyDrive/Thesis/Step_for_Presentation/RCS_250502_0946_5S2P_StepSC_Run1_1.csv\n",
            "Loaded df_StepCE_Run1 from /content/drive/MyDrive/Thesis/Step_for_Presentation/RCS_250502_1001_5S2P_StepCE_Run1_1.csv\n"
          ]
        }
      ],
      "source": [
        "base_path = \"/content/drive/MyDrive/Thesis\"\n",
        "isc_folders = glob.glob(os.path.join(base_path, \"Step*\"))\n",
        "\n",
        "df_dict = {}\n",
        "\n",
        "\n",
        "for folder in isc_folders:\n",
        "    csv_files = glob.glob(os.path.join(folder, \"RCS_*_5S2P_*_Run*_*.csv\"))\n",
        "\n",
        "    for file_path in csv_files:\n",
        "        match = re.search(r\"RCS_\\d+_\\d+_5S2P_(.*?)_(Run\\d)_\\d\\.csv\", os.path.basename(file_path))\n",
        "        if match:\n",
        "            tag = match.group(1)\n",
        "            run = match.group(2)\n",
        "            key = f\"df_{tag}_{run}\"\n",
        "\n",
        "            df = pd.read_csv(file_path)\n",
        "            df_dict[key] = df\n",
        "            print(f\"Loaded {key} from {file_path}\")\n",
        "        else:\n",
        "            print(f\"Skipped unmatched file: {file_path}\")"
      ]
    },
    {
      "cell_type": "code",
      "execution_count": 3,
      "metadata": {
        "colab": {
          "base_uri": "https://localhost:8080/"
        },
        "id": "3-AxgtFZrfg_",
        "outputId": "10b7fc30-931f-4ed7-b008-0934d982928c"
      },
      "outputs": [
        {
          "output_type": "stream",
          "name": "stdout",
          "text": [
            "Grouping dataframes by fault type...\n",
            "****** Running analysis for StepSC ******\n",
            "vmin 7.477948\n",
            "vmax 8.33202572\n",
            "****** Running analysis for StepCE ******\n",
            "vmin 7.3162\n",
            "vmax 8.00602575449102\n"
          ]
        }
      ],
      "source": [
        "plotter = MultiRunCorrelationPlotter(df_dict)\n",
        "plotter.analyze_all()"
      ]
    }
  ],
  "metadata": {
    "colab": {
      "provenance": [],
      "mount_file_id": "16tuThBIRurbQHEzkPnACZY44TW89mElG",
      "authorship_tag": "ABX9TyOo5jd+MgkmGRhZC1+idVsr"
    },
    "kernelspec": {
      "display_name": "Python 3",
      "name": "python3"
    },
    "language_info": {
      "name": "python"
    }
  },
  "nbformat": 4,
  "nbformat_minor": 0
}